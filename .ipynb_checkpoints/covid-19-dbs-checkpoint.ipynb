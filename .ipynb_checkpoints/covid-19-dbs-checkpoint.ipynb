{
 "cells": [
  {
   "cell_type": "markdown",
   "metadata": {},
   "source": [
    "## MySQL"
   ]
  },
  {
   "cell_type": "markdown",
   "metadata": {},
   "source": [
    "### DataFrame covid-19-bogota.csv"
   ]
  },
  {
   "cell_type": "code",
   "execution_count": 26,
   "metadata": {},
   "outputs": [],
   "source": [
    "import pandas as pd"
   ]
  },
  {
   "cell_type": "code",
   "execution_count": 27,
   "metadata": {},
   "outputs": [],
   "source": [
    "df_cv19bog = pd.read_csv('covid-19-bogota.csv', encoding = 'latin-1', sep = ';').dropna()"
   ]
  },
  {
   "cell_type": "markdown",
   "metadata": {},
   "source": [
    "### PyMySQL"
   ]
  },
  {
   "cell_type": "markdown",
   "metadata": {},
   "source": [
    "#### Crear base de datos"
   ]
  },
  {
   "cell_type": "code",
   "execution_count": 38,
   "metadata": {},
   "outputs": [],
   "source": [
    "from secrets import mysql_info\n",
    "import pymysql.cursors\n",
    "\n",
    "db_covid_name = 'covid19'"
   ]
  },
  {
   "cell_type": "code",
   "execution_count": 30,
   "metadata": {},
   "outputs": [],
   "source": [
    "myconnect = pymysql.connect(\n",
    "    host = mysql_info['host'],\n",
    "    user = mysql_info['user'],\n",
    "    password = mysql_info['password']\n",
    ")"
   ]
  },
  {
   "cell_type": "code",
   "execution_count": 31,
   "metadata": {},
   "outputs": [
    {
     "name": "stdout",
     "output_type": "stream",
     "text": [
      "('information_schema',)\n",
      "('covid19',)\n",
      "('mysql',)\n",
      "('performance_schema',)\n",
      "('sys',)\n"
     ]
    }
   ],
   "source": [
    "try:\n",
    "    with myconnect.cursor() as cursor:\n",
    "        cursor.execute('CREATE DATABASE {db}'.format(db=db_covid_name))\n",
    "        cursor.execute(\"SHOW DATABASES\")\n",
    "        for x in cursor:\n",
    "            print(x)\n",
    "finally:\n",
    "    myconnect.close()"
   ]
  },
  {
   "cell_type": "markdown",
   "metadata": {},
   "source": [
    "### Crear tabla localidades"
   ]
  },
  {
   "cell_type": "code",
   "execution_count": 168,
   "metadata": {},
   "outputs": [],
   "source": [
    "table_localities_name = 'localities'"
   ]
  },
  {
   "cell_type": "code",
   "execution_count": 169,
   "metadata": {},
   "outputs": [
    {
     "data": {
      "text/html": [
       "<div>\n",
       "<style scoped>\n",
       "    .dataframe tbody tr th:only-of-type {\n",
       "        vertical-align: middle;\n",
       "    }\n",
       "\n",
       "    .dataframe tbody tr th {\n",
       "        vertical-align: top;\n",
       "    }\n",
       "\n",
       "    .dataframe thead th {\n",
       "        text-align: right;\n",
       "    }\n",
       "</style>\n",
       "<table border=\"1\" class=\"dataframe\">\n",
       "  <thead>\n",
       "    <tr style=\"text-align: right;\">\n",
       "      <th></th>\n",
       "      <th>name</th>\n",
       "      <th>type</th>\n",
       "      <th>concat</th>\n",
       "    </tr>\n",
       "  </thead>\n",
       "  <tbody>\n",
       "    <tr>\n",
       "      <th>0</th>\n",
       "      <td>id</td>\n",
       "      <td>INT</td>\n",
       "      <td>id INT</td>\n",
       "    </tr>\n",
       "    <tr>\n",
       "      <th>1</th>\n",
       "      <td>name_wiki</td>\n",
       "      <td>TEXT</td>\n",
       "      <td>name_wiki TEXT</td>\n",
       "    </tr>\n",
       "    <tr>\n",
       "      <th>2</th>\n",
       "      <td>name_covid</td>\n",
       "      <td>TEXT</td>\n",
       "      <td>name_covid TEXT</td>\n",
       "    </tr>\n",
       "  </tbody>\n",
       "</table>\n",
       "</div>"
      ],
      "text/plain": [
       "         name  type           concat\n",
       "0          id   INT           id INT\n",
       "1   name_wiki  TEXT   name_wiki TEXT\n",
       "2  name_covid  TEXT  name_covid TEXT"
      ]
     },
     "execution_count": 169,
     "metadata": {},
     "output_type": "execute_result"
    }
   ],
   "source": [
    "local_fields = pd.DataFrame([\n",
    "    {'name':'id', 'type':'INT'},\n",
    "    {'name':'name_wiki', 'type':'TEXT'},\n",
    "    {'name':'name_covid', 'type':'TEXT'}\n",
    "])\n",
    "local_fields['concat'] = local_fields['name'] + ' ' + local_fields['type']\n",
    "local_fields"
   ]
  },
  {
   "cell_type": "code",
   "execution_count": 170,
   "metadata": {},
   "outputs": [
    {
     "data": {
      "text/plain": [
       "'id INT,name_wiki TEXT,name_covid TEXT'"
      ]
     },
     "execution_count": 170,
     "metadata": {},
     "output_type": "execute_result"
    }
   ],
   "source": [
    "mess_fields = ','.join(local_fields['concat'].tolist())\n",
    "mess_fields"
   ]
  },
  {
   "cell_type": "code",
   "execution_count": 171,
   "metadata": {},
   "outputs": [
    {
     "data": {
      "text/plain": [
       "'CREATE TABLE IF NOT EXISTS localities(id INT,name_wiki TEXT,name_covid TEXT)'"
      ]
     },
     "execution_count": 171,
     "metadata": {},
     "output_type": "execute_result"
    }
   ],
   "source": [
    "sqlQuery = '''CREATE TABLE IF NOT EXISTS {tb_name}({fields})'''.format(tb_name=table_localities_name, fields=mess_fields)\n",
    "sqlQuery"
   ]
  },
  {
   "cell_type": "code",
   "execution_count": 172,
   "metadata": {},
   "outputs": [],
   "source": [
    "myconnect = pymysql.connect(\n",
    "    host = mysql_info['host'],\n",
    "    user = mysql_info['user'],\n",
    "    password = mysql_info['password'],\n",
    "    db = db_covid_name,\n",
    "    cursorclass=pymysql.cursors.DictCursor\n",
    ")"
   ]
  },
  {
   "cell_type": "code",
   "execution_count": 173,
   "metadata": {},
   "outputs": [],
   "source": [
    "try:\n",
    "    with myconnect.cursor() as cursor:\n",
    "        cursor.execute(sqlQuery)\n",
    "        for x in cursor:\n",
    "            print(x)\n",
    "finally:\n",
    "    myconnect.close()"
   ]
  },
  {
   "cell_type": "markdown",
   "metadata": {},
   "source": [
    "### Insertar localidades"
   ]
  },
  {
   "cell_type": "code",
   "execution_count": 174,
   "metadata": {},
   "outputs": [
    {
     "data": {
      "text/plain": [
       "Index(['Fecha de inicio de síntomas', 'Fecha de diagnóstico',\n",
       "       'Ciudad de residencia', 'Localidad de residencia', 'Edad',\n",
       "       'Unidad de medida de la edad', 'Sexo', 'Tipo de caso', 'Ubicación',\n",
       "       'Estado'],\n",
       "      dtype='object')"
      ]
     },
     "execution_count": 174,
     "metadata": {},
     "output_type": "execute_result"
    }
   ],
   "source": [
    "df_cv19bog.columns"
   ]
  },
  {
   "cell_type": "code",
   "execution_count": 175,
   "metadata": {},
   "outputs": [],
   "source": [
    "localities_covid19 = pd.DataFrame(df_cv19bog['Localidad de residencia'].unique(),columns=['localidad'])"
   ]
  },
  {
   "cell_type": "code",
   "execution_count": 176,
   "metadata": {},
   "outputs": [],
   "source": [
    "localities_wiki = pd.DataFrame([\n",
    "    {'id':1, 'name': 'Usaquén'},\n",
    "    {'id':2, 'name': 'Chapinero'},\n",
    "    {'id':3, 'name': 'Santa Fe'},\n",
    "    {'id':4, 'name': 'San Cristóbal'},\n",
    "    {'id':5, 'name': 'Usme'},\n",
    "    {'id':6, 'name': 'Tunjuelito'},\n",
    "    {'id':7, 'name': 'Bosa'},\n",
    "    {'id':8, 'name':  'Kennedy'},\n",
    "    {'id':9, 'name': 'Fontibón'},\n",
    "    {'id':10, 'name': 'Engativá'},\n",
    "    {'id':11, 'name': 'Suba'},\n",
    "    {'id':12, 'name': 'Barrios Unidos'},\n",
    "    {'id':13, 'name': 'Teusaquillo'},\n",
    "    {'id':14, 'name': 'Los Mártires'},\n",
    "    {'id':15, 'name': 'Antonio Nariño'},\n",
    "    {'id':16, 'name': 'Puente Aranda'},\n",
    "    {'id':17, 'name': 'La Candelaria'},\n",
    "    {'id':18, 'name': 'Rafael Uribe Uribe'},\n",
    "    {'id':19, 'name': 'Ciudad Bolívar'},\n",
    "    {'id':20, 'name': 'Sumapaz'}\n",
    "])"
   ]
  },
  {
   "cell_type": "code",
   "execution_count": 177,
   "metadata": {},
   "outputs": [
    {
     "data": {
      "text/html": [
       "<div>\n",
       "<style scoped>\n",
       "    .dataframe tbody tr th:only-of-type {\n",
       "        vertical-align: middle;\n",
       "    }\n",
       "\n",
       "    .dataframe tbody tr th {\n",
       "        vertical-align: top;\n",
       "    }\n",
       "\n",
       "    .dataframe thead th {\n",
       "        text-align: right;\n",
       "    }\n",
       "</style>\n",
       "<table border=\"1\" class=\"dataframe\">\n",
       "  <thead>\n",
       "    <tr style=\"text-align: right;\">\n",
       "      <th></th>\n",
       "      <th>id</th>\n",
       "      <th>name</th>\n",
       "      <th>localidad</th>\n",
       "    </tr>\n",
       "  </thead>\n",
       "  <tbody>\n",
       "    <tr>\n",
       "      <th>0</th>\n",
       "      <td>1.0</td>\n",
       "      <td>Usaquén</td>\n",
       "      <td>Usaquén</td>\n",
       "    </tr>\n",
       "    <tr>\n",
       "      <th>1</th>\n",
       "      <td>2.0</td>\n",
       "      <td>Chapinero</td>\n",
       "      <td>Chapinero</td>\n",
       "    </tr>\n",
       "    <tr>\n",
       "      <th>2</th>\n",
       "      <td>3.0</td>\n",
       "      <td>Santa Fe</td>\n",
       "      <td>Santa Fe</td>\n",
       "    </tr>\n",
       "    <tr>\n",
       "      <th>3</th>\n",
       "      <td>4.0</td>\n",
       "      <td>San Cristóbal</td>\n",
       "      <td>San Cristóbal</td>\n",
       "    </tr>\n",
       "    <tr>\n",
       "      <th>4</th>\n",
       "      <td>5.0</td>\n",
       "      <td>Usme</td>\n",
       "      <td>Usme</td>\n",
       "    </tr>\n",
       "    <tr>\n",
       "      <th>5</th>\n",
       "      <td>6.0</td>\n",
       "      <td>Tunjuelito</td>\n",
       "      <td>Tunjuelito</td>\n",
       "    </tr>\n",
       "    <tr>\n",
       "      <th>6</th>\n",
       "      <td>7.0</td>\n",
       "      <td>Bosa</td>\n",
       "      <td>Bosa</td>\n",
       "    </tr>\n",
       "    <tr>\n",
       "      <th>7</th>\n",
       "      <td>8.0</td>\n",
       "      <td>Kennedy</td>\n",
       "      <td>Kennedy</td>\n",
       "    </tr>\n",
       "    <tr>\n",
       "      <th>8</th>\n",
       "      <td>9.0</td>\n",
       "      <td>Fontibón</td>\n",
       "      <td>Fontibón</td>\n",
       "    </tr>\n",
       "    <tr>\n",
       "      <th>9</th>\n",
       "      <td>10.0</td>\n",
       "      <td>Engativá</td>\n",
       "      <td>Engativá</td>\n",
       "    </tr>\n",
       "    <tr>\n",
       "      <th>10</th>\n",
       "      <td>11.0</td>\n",
       "      <td>Suba</td>\n",
       "      <td>Suba</td>\n",
       "    </tr>\n",
       "    <tr>\n",
       "      <th>11</th>\n",
       "      <td>12.0</td>\n",
       "      <td>Barrios Unidos</td>\n",
       "      <td>Barrios Unidos</td>\n",
       "    </tr>\n",
       "    <tr>\n",
       "      <th>12</th>\n",
       "      <td>13.0</td>\n",
       "      <td>Teusaquillo</td>\n",
       "      <td>Teusaquillo</td>\n",
       "    </tr>\n",
       "    <tr>\n",
       "      <th>13</th>\n",
       "      <td>14.0</td>\n",
       "      <td>Los Mártires</td>\n",
       "      <td>Los Mártires</td>\n",
       "    </tr>\n",
       "    <tr>\n",
       "      <th>14</th>\n",
       "      <td>15.0</td>\n",
       "      <td>Antonio Nariño</td>\n",
       "      <td>Antonio Nariño</td>\n",
       "    </tr>\n",
       "    <tr>\n",
       "      <th>15</th>\n",
       "      <td>16.0</td>\n",
       "      <td>Puente Aranda</td>\n",
       "      <td>Puente Aranda</td>\n",
       "    </tr>\n",
       "    <tr>\n",
       "      <th>16</th>\n",
       "      <td>17.0</td>\n",
       "      <td>La Candelaria</td>\n",
       "      <td>La Candelaria</td>\n",
       "    </tr>\n",
       "    <tr>\n",
       "      <th>17</th>\n",
       "      <td>18.0</td>\n",
       "      <td>Rafael Uribe Uribe</td>\n",
       "      <td>Rafael Uribe Uribe</td>\n",
       "    </tr>\n",
       "    <tr>\n",
       "      <th>18</th>\n",
       "      <td>19.0</td>\n",
       "      <td>Ciudad Bolívar</td>\n",
       "      <td>Ciudad Bolívar</td>\n",
       "    </tr>\n",
       "    <tr>\n",
       "      <th>19</th>\n",
       "      <td>20.0</td>\n",
       "      <td>Sumapaz</td>\n",
       "      <td>NaN</td>\n",
       "    </tr>\n",
       "    <tr>\n",
       "      <th>20</th>\n",
       "      <td>NaN</td>\n",
       "      <td>NaN</td>\n",
       "      <td>Fuera de Bogotá</td>\n",
       "    </tr>\n",
       "    <tr>\n",
       "      <th>21</th>\n",
       "      <td>NaN</td>\n",
       "      <td>NaN</td>\n",
       "      <td>Sin dato</td>\n",
       "    </tr>\n",
       "  </tbody>\n",
       "</table>\n",
       "</div>"
      ],
      "text/plain": [
       "      id                name           localidad\n",
       "0    1.0             Usaquén             Usaquén\n",
       "1    2.0           Chapinero           Chapinero\n",
       "2    3.0            Santa Fe            Santa Fe\n",
       "3    4.0       San Cristóbal       San Cristóbal\n",
       "4    5.0                Usme                Usme\n",
       "5    6.0          Tunjuelito          Tunjuelito\n",
       "6    7.0                Bosa                Bosa\n",
       "7    8.0             Kennedy             Kennedy\n",
       "8    9.0            Fontibón            Fontibón\n",
       "9   10.0            Engativá            Engativá\n",
       "10  11.0                Suba                Suba\n",
       "11  12.0      Barrios Unidos      Barrios Unidos\n",
       "12  13.0         Teusaquillo         Teusaquillo\n",
       "13  14.0        Los Mártires        Los Mártires\n",
       "14  15.0      Antonio Nariño      Antonio Nariño\n",
       "15  16.0       Puente Aranda       Puente Aranda\n",
       "16  17.0       La Candelaria       La Candelaria\n",
       "17  18.0  Rafael Uribe Uribe  Rafael Uribe Uribe\n",
       "18  19.0      Ciudad Bolívar      Ciudad Bolívar\n",
       "19  20.0             Sumapaz                 NaN\n",
       "20   NaN                 NaN     Fuera de Bogotá\n",
       "21   NaN                 NaN            Sin dato"
      ]
     },
     "execution_count": 177,
     "metadata": {},
     "output_type": "execute_result"
    }
   ],
   "source": [
    "df_local = pd.merge(localities_wiki,localities_covid19,left_on='name',right_on='localidad',how='outer')\n",
    "df_local"
   ]
  },
  {
   "cell_type": "code",
   "execution_count": 178,
   "metadata": {},
   "outputs": [
    {
     "data": {
      "text/html": [
       "<div>\n",
       "<style scoped>\n",
       "    .dataframe tbody tr th:only-of-type {\n",
       "        vertical-align: middle;\n",
       "    }\n",
       "\n",
       "    .dataframe tbody tr th {\n",
       "        vertical-align: top;\n",
       "    }\n",
       "\n",
       "    .dataframe thead th {\n",
       "        text-align: right;\n",
       "    }\n",
       "</style>\n",
       "<table border=\"1\" class=\"dataframe\">\n",
       "  <thead>\n",
       "    <tr style=\"text-align: right;\">\n",
       "      <th></th>\n",
       "      <th>id</th>\n",
       "      <th>name</th>\n",
       "      <th>localidad</th>\n",
       "    </tr>\n",
       "  </thead>\n",
       "  <tbody>\n",
       "    <tr>\n",
       "      <th>0</th>\n",
       "      <td>1.0</td>\n",
       "      <td>Usaquén</td>\n",
       "      <td>Usaquén</td>\n",
       "    </tr>\n",
       "    <tr>\n",
       "      <th>1</th>\n",
       "      <td>2.0</td>\n",
       "      <td>Chapinero</td>\n",
       "      <td>Chapinero</td>\n",
       "    </tr>\n",
       "    <tr>\n",
       "      <th>2</th>\n",
       "      <td>3.0</td>\n",
       "      <td>Santa Fe</td>\n",
       "      <td>Santa Fe</td>\n",
       "    </tr>\n",
       "    <tr>\n",
       "      <th>3</th>\n",
       "      <td>4.0</td>\n",
       "      <td>San Cristóbal</td>\n",
       "      <td>San Cristóbal</td>\n",
       "    </tr>\n",
       "    <tr>\n",
       "      <th>4</th>\n",
       "      <td>5.0</td>\n",
       "      <td>Usme</td>\n",
       "      <td>Usme</td>\n",
       "    </tr>\n",
       "    <tr>\n",
       "      <th>5</th>\n",
       "      <td>6.0</td>\n",
       "      <td>Tunjuelito</td>\n",
       "      <td>Tunjuelito</td>\n",
       "    </tr>\n",
       "    <tr>\n",
       "      <th>6</th>\n",
       "      <td>7.0</td>\n",
       "      <td>Bosa</td>\n",
       "      <td>Bosa</td>\n",
       "    </tr>\n",
       "    <tr>\n",
       "      <th>7</th>\n",
       "      <td>8.0</td>\n",
       "      <td>Kennedy</td>\n",
       "      <td>Kennedy</td>\n",
       "    </tr>\n",
       "    <tr>\n",
       "      <th>8</th>\n",
       "      <td>9.0</td>\n",
       "      <td>Fontibón</td>\n",
       "      <td>Fontibón</td>\n",
       "    </tr>\n",
       "    <tr>\n",
       "      <th>9</th>\n",
       "      <td>10.0</td>\n",
       "      <td>Engativá</td>\n",
       "      <td>Engativá</td>\n",
       "    </tr>\n",
       "    <tr>\n",
       "      <th>10</th>\n",
       "      <td>11.0</td>\n",
       "      <td>Suba</td>\n",
       "      <td>Suba</td>\n",
       "    </tr>\n",
       "    <tr>\n",
       "      <th>11</th>\n",
       "      <td>12.0</td>\n",
       "      <td>Barrios Unidos</td>\n",
       "      <td>Barrios Unidos</td>\n",
       "    </tr>\n",
       "    <tr>\n",
       "      <th>12</th>\n",
       "      <td>13.0</td>\n",
       "      <td>Teusaquillo</td>\n",
       "      <td>Teusaquillo</td>\n",
       "    </tr>\n",
       "    <tr>\n",
       "      <th>13</th>\n",
       "      <td>14.0</td>\n",
       "      <td>Los Mártires</td>\n",
       "      <td>Los Mártires</td>\n",
       "    </tr>\n",
       "    <tr>\n",
       "      <th>14</th>\n",
       "      <td>15.0</td>\n",
       "      <td>Antonio Nariño</td>\n",
       "      <td>Antonio Nariño</td>\n",
       "    </tr>\n",
       "    <tr>\n",
       "      <th>15</th>\n",
       "      <td>16.0</td>\n",
       "      <td>Puente Aranda</td>\n",
       "      <td>Puente Aranda</td>\n",
       "    </tr>\n",
       "    <tr>\n",
       "      <th>16</th>\n",
       "      <td>17.0</td>\n",
       "      <td>La Candelaria</td>\n",
       "      <td>La Candelaria</td>\n",
       "    </tr>\n",
       "    <tr>\n",
       "      <th>17</th>\n",
       "      <td>18.0</td>\n",
       "      <td>Rafael Uribe Uribe</td>\n",
       "      <td>Rafael Uribe Uribe</td>\n",
       "    </tr>\n",
       "    <tr>\n",
       "      <th>18</th>\n",
       "      <td>19.0</td>\n",
       "      <td>Ciudad Bolívar</td>\n",
       "      <td>Ciudad Bolívar</td>\n",
       "    </tr>\n",
       "    <tr>\n",
       "      <th>19</th>\n",
       "      <td>20.0</td>\n",
       "      <td>Sumapaz</td>\n",
       "      <td>NaN</td>\n",
       "    </tr>\n",
       "  </tbody>\n",
       "</table>\n",
       "</div>"
      ],
      "text/plain": [
       "      id                name           localidad\n",
       "0    1.0             Usaquén             Usaquén\n",
       "1    2.0           Chapinero           Chapinero\n",
       "2    3.0            Santa Fe            Santa Fe\n",
       "3    4.0       San Cristóbal       San Cristóbal\n",
       "4    5.0                Usme                Usme\n",
       "5    6.0          Tunjuelito          Tunjuelito\n",
       "6    7.0                Bosa                Bosa\n",
       "7    8.0             Kennedy             Kennedy\n",
       "8    9.0            Fontibón            Fontibón\n",
       "9   10.0            Engativá            Engativá\n",
       "10  11.0                Suba                Suba\n",
       "11  12.0      Barrios Unidos      Barrios Unidos\n",
       "12  13.0         Teusaquillo         Teusaquillo\n",
       "13  14.0        Los Mártires        Los Mártires\n",
       "14  15.0      Antonio Nariño      Antonio Nariño\n",
       "15  16.0       Puente Aranda       Puente Aranda\n",
       "16  17.0       La Candelaria       La Candelaria\n",
       "17  18.0  Rafael Uribe Uribe  Rafael Uribe Uribe\n",
       "18  19.0      Ciudad Bolívar      Ciudad Bolívar\n",
       "19  20.0             Sumapaz                 NaN"
      ]
     },
     "execution_count": 178,
     "metadata": {},
     "output_type": "execute_result"
    }
   ],
   "source": [
    "df_local.rename(columns={'id': local_fields['name'][0],'name': local_fields['name'][1], 'localidad': local_fields['name'][2]})\n",
    "df_local.dropna(inplace= True,subset=[local_fields['name'][0]])\n",
    "df_local"
   ]
  },
  {
   "cell_type": "code",
   "execution_count": 179,
   "metadata": {},
   "outputs": [
    {
     "data": {
      "text/plain": [
       "'id,name_wiki,name_covid'"
      ]
     },
     "execution_count": 179,
     "metadata": {},
     "output_type": "execute_result"
    }
   ],
   "source": [
    "insert_fields = ','.join(local_fields['name'].tolist())\n",
    "insert_fields"
   ]
  },
  {
   "cell_type": "code",
   "execution_count": 180,
   "metadata": {},
   "outputs": [
    {
     "data": {
      "text/plain": [
       "\"('1.0','Usaquén','Usaquén'),('2.0','Chapinero','Chapinero'),('3.0','Santa Fe','Santa Fe'),('4.0','San Cristóbal','San Cristóbal'),('5.0','Usme','Usme'),('6.0','Tunjuelito','Tunjuelito'),('7.0','Bosa','Bosa'),('8.0','Kennedy','Kennedy'),('9.0','Fontibón','Fontibón'),('10.0','Engativá','Engativá'),('11.0','Suba','Suba'),('12.0','Barrios Unidos','Barrios Unidos'),('13.0','Teusaquillo','Teusaquillo'),('14.0','Los Mártires','Los Mártires'),('15.0','Antonio Nariño','Antonio Nariño'),('16.0','Puente Aranda','Puente Aranda'),('17.0','La Candelaria','La Candelaria'),('18.0','Rafael Uribe Uribe','Rafael Uribe Uribe'),('19.0','Ciudad Bolívar','Ciudad Bolívar'),('20.0','Sumapaz','nan')\""
      ]
     },
     "execution_count": 180,
     "metadata": {},
     "output_type": "execute_result"
    }
   ],
   "source": [
    "df_insert_values = df_local.applymap(lambda x: \"'\" + str(x) + \"'\")\n",
    "df_insert_values['insert'] = \"(\" + df_insert_values.apply(\",\".join, axis=1) + \")\"\n",
    "insert_values = \",\".join(df_insert_values['insert'].to_list())\n",
    "insert_values"
   ]
  },
  {
   "cell_type": "code",
   "execution_count": 181,
   "metadata": {},
   "outputs": [
    {
     "data": {
      "text/plain": [
       "\"INSERT INTO localities (id,name_wiki,name_covid) VALUES ('1.0','Usaquén','Usaquén'),('2.0','Chapinero','Chapinero'),('3.0','Santa Fe','Santa Fe'),('4.0','San Cristóbal','San Cristóbal'),('5.0','Usme','Usme'),('6.0','Tunjuelito','Tunjuelito'),('7.0','Bosa','Bosa'),('8.0','Kennedy','Kennedy'),('9.0','Fontibón','Fontibón'),('10.0','Engativá','Engativá'),('11.0','Suba','Suba'),('12.0','Barrios Unidos','Barrios Unidos'),('13.0','Teusaquillo','Teusaquillo'),('14.0','Los Mártires','Los Mártires'),('15.0','Antonio Nariño','Antonio Nariño'),('16.0','Puente Aranda','Puente Aranda'),('17.0','La Candelaria','La Candelaria'),('18.0','Rafael Uribe Uribe','Rafael Uribe Uribe'),('19.0','Ciudad Bolívar','Ciudad Bolívar'),('20.0','Sumapaz','nan');\""
      ]
     },
     "execution_count": 181,
     "metadata": {},
     "output_type": "execute_result"
    }
   ],
   "source": [
    "sqlQuery = '''INSERT INTO {tb_name} ({fields}) VALUES {values};'''.format(tb_name=table_localities_name,fields=insert_fields,values=insert_values)\n",
    "sqlQuery"
   ]
  },
  {
   "cell_type": "code",
   "execution_count": 185,
   "metadata": {},
   "outputs": [],
   "source": [
    "myconnect = pymysql.connect(\n",
    "    host = mysql_info['host'],\n",
    "    user = mysql_info['user'],\n",
    "    password = mysql_info['password'],\n",
    "    db = db_covid_name,\n",
    "    cursorclass=pymysql.cursors.DictCursor\n",
    ")"
   ]
  },
  {
   "cell_type": "code",
   "execution_count": 186,
   "metadata": {},
   "outputs": [],
   "source": [
    "cursor = myconnect.cursor()"
   ]
  },
  {
   "cell_type": "code",
   "execution_count": 187,
   "metadata": {},
   "outputs": [
    {
     "data": {
      "text/plain": [
       "20"
      ]
     },
     "execution_count": 187,
     "metadata": {},
     "output_type": "execute_result"
    }
   ],
   "source": [
    "cursor.execute(sqlQuery)"
   ]
  },
  {
   "cell_type": "code",
   "execution_count": 188,
   "metadata": {},
   "outputs": [],
   "source": [
    "for x in cursor:\n",
    "    print(x)"
   ]
  },
  {
   "cell_type": "code",
   "execution_count": 184,
   "metadata": {},
   "outputs": [],
   "source": [
    "#try:\n",
    "with myconnect.cursor() as cursor:\n",
    "    cursor.execute(sqlQuery)\n",
    "#finally:\n",
    "myconnect.close()"
   ]
  },
  {
   "cell_type": "markdown",
   "metadata": {},
   "source": [
    "### Crear tabla covid-19-bogota desde DataFrame"
   ]
  },
  {
   "cell_type": "code",
   "execution_count": 32,
   "metadata": {},
   "outputs": [],
   "source": [
    "from sqlalchemy import create_engine\n",
    "table_covid_name='cov19bogorig'"
   ]
  },
  {
   "cell_type": "code",
   "execution_count": 33,
   "metadata": {},
   "outputs": [],
   "source": [
    "engine = create_engine(\"mysql+pymysql://{user}:{pw}@{host}/{db}\"\n",
    "                       .format(user=mysql_info['user'],\n",
    "                               pw=mysql_info['password'],\n",
    "                               host=mysql_info['host'],\n",
    "                               db=db_covid_name))"
   ]
  },
  {
   "cell_type": "code",
   "execution_count": 34,
   "metadata": {},
   "outputs": [],
   "source": [
    "myconnect = engine.connect()"
   ]
  },
  {
   "cell_type": "code",
   "execution_count": 35,
   "metadata": {},
   "outputs": [],
   "source": [
    "df_cv19bog.to_sql(table_covid_name, con=myconnect, if_exists='replace');"
   ]
  },
  {
   "cell_type": "markdown",
   "metadata": {},
   "source": [
    "### MySQL Connector"
   ]
  },
  {
   "cell_type": "code",
   "execution_count": 28,
   "metadata": {},
   "outputs": [],
   "source": [
    "mydb = mysql.connector.connect(\n",
    "    host = mysql_info['host'],\n",
    "    user = mysql_info['user'],\n",
    "    password = mysql_info['password'],\n",
    "    db = db_name\n",
    ")"
   ]
  },
  {
   "cell_type": "markdown",
   "metadata": {},
   "source": [
    "### Crear base de datos"
   ]
  },
  {
   "cell_type": "code",
   "execution_count": 30,
   "metadata": {},
   "outputs": [],
   "source": [
    "db_name = 'covid19'\n",
    "mycursor = mydb.cursor()\n",
    "mycursor.execute('CREATE DATABASE '+ db_name)"
   ]
  },
  {
   "cell_type": "code",
   "execution_count": 31,
   "metadata": {},
   "outputs": [],
   "source": [
    "mycursor.execute(\"SHOW DATABASES\")"
   ]
  },
  {
   "cell_type": "code",
   "execution_count": 32,
   "metadata": {},
   "outputs": [
    {
     "name": "stdout",
     "output_type": "stream",
     "text": [
      "('information_schema',)\n",
      "('covid19',)\n",
      "('mysql',)\n",
      "('performance_schema',)\n",
      "('sys',)\n"
     ]
    }
   ],
   "source": [
    "for x in mycursor:\n",
    "    print(x)"
   ]
  },
  {
   "cell_type": "code",
   "execution_count": 33,
   "metadata": {},
   "outputs": [],
   "source": [
    "mydb_covid19 = mysql.connector.connect(\n",
    "    host=mysql_info['host'],\n",
    "    database=db_name,\n",
    "    user=mysql_info['user'],\n",
    "    password=mysql_info['password'])"
   ]
  },
  {
   "cell_type": "code",
   "execution_count": 34,
   "metadata": {},
   "outputs": [
    {
     "data": {
      "text/plain": [
       "<mysql.connector.connection_cext.CMySQLConnection at 0x7facd3f006d0>"
      ]
     },
     "execution_count": 34,
     "metadata": {},
     "output_type": "execute_result"
    }
   ],
   "source": [
    "mydb_covid19"
   ]
  },
  {
   "cell_type": "markdown",
   "metadata": {},
   "source": [
    "### Conexión con MySQL desde Pandas"
   ]
  }
 ],
 "metadata": {
  "kernelspec": {
   "display_name": "Python 3",
   "language": "python",
   "name": "python3"
  },
  "language_info": {
   "codemirror_mode": {
    "name": "ipython",
    "version": 3
   },
   "file_extension": ".py",
   "mimetype": "text/x-python",
   "name": "python",
   "nbconvert_exporter": "python",
   "pygments_lexer": "ipython3",
   "version": "3.7.6"
  }
 },
 "nbformat": 4,
 "nbformat_minor": 4
}
